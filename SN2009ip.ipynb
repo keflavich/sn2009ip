{
 "metadata": {
  "name": "SN2009ip"
 },
 "nbformat": 3,
 "nbformat_minor": 0,
 "worksheets": [
  {
   "cells": [
    {
     "cell_type": "markdown",
     "metadata": {
      "slideshow": {
       "slide_start": false
      }
     },
     "source": [
      "Using the numbers we measure for $L(H\\alpha)$, I'll re-derive key quantities about SN 2009ip.\n",
      "\n",
      "This analysis implicitly assumes that H$\\alpha$ is optically thick at $10^4$ K.  I believe we should make that assumption explicit in the text."
     ]
    },
    {
     "cell_type": "code",
     "collapsed": false,
     "input": [
      "from astropy import units, constants\n",
      "pc = units.pc.in_units('cm')\n",
      "Iha = 2.9e-14 # erg s^-1 cm^-2 A^-1\n",
      "D = 24e6 * pc\n",
      "Lha = Iha * D**2\n",
      "print Iha,\" erg/s/cm^2/A\"\n",
      "print D,\" cm\"\n",
      "print Lha,\" erg/s/A\""
     ],
     "language": "python",
     "metadata": {
      "slideshow": {
       "slide_start": false
      }
     },
     "outputs": [
      {
       "output_type": "stream",
       "stream": "stdout",
       "text": [
        "2.9e-14  erg/s/cm^2/A\n",
        "7.40562619552e+25  cm\n",
        "1.59045568109e+38  erg/s/A\n"
       ]
      }
     ],
     "prompt_number": 1
    },
    {
     "cell_type": "code",
     "collapsed": false,
     "input": [
      "# Use the wavelength form of the Planck function\n",
      "h = constants.cgs.h\n",
      "k = constants.cgs.k_B\n",
      "c = constants.cgs.c\n",
      "def planck(lam, temp):\n",
      "    \"\"\" erg s^-1 cm^-2 A^-1 sr^-1 \"\"\"\n",
      "    return 2*h*c**2 / lam**5 * (exp(h*c/(k*temperature*lam)) - 1)**-1"
     ],
     "language": "python",
     "metadata": {
      "slideshow": {
       "slide_start": false
      }
     },
     "outputs": [],
     "prompt_number": 2
    },
    {
     "cell_type": "code",
     "collapsed": false,
     "input": [
      "angstrom = units.angstrom.in_units('cm') # angstroms\n",
      "wave = 6562.8*angstrom\n",
      "temperature = 1e4 # K\n",
      "print \"sanity check: wave * 1e8 = 6562.8 = \",wave*1e8\n",
      "print \"planck(6562.8,1e4) = \",planck(wave,temperature),\" erg/s/cm^2/cm\"\n",
      "print \"planck(6562.8,1e4) = \",planck(wave,temperature)/1e8,\" erg/s/cm^2/A\""
     ],
     "language": "python",
     "metadata": {
      "slideshow": {
       "slide_start": false
      }
     },
     "outputs": [
      {
       "output_type": "stream",
       "stream": "stdout",
       "text": [
        "sanity check: wave * 1e8 = 6562.8 =  6562.8\n",
        "planck(6562.8,1e4) =  1.22966749446e+15  erg/s/cm^2/cm\n",
        "planck(6562.8,1e4) =  12296674.9446  erg/s/cm^2/A\n"
       ]
      }
     ],
     "prompt_number": 3
    },
    {
     "cell_type": "markdown",
     "metadata": {
      "slideshow": {
       "slide_start": false
      }
     },
     "source": [
      "We're trying to solve an equation of the form:\n",
      "$$ L(H\\alpha) = \\pi R^2 B_\\lambda(T) d\\lambda $$\n",
      "Since our luminosity is in erg s$^{-1}$ $\\dot{A}^{-1}$, we don't have to worry about the bandwidth.  \n",
      "$$ R = (L(H\\alpha) / \\pi / B_\\lambda(T))^{1/2}$$"
     ]
    },
    {
     "cell_type": "code",
     "collapsed": false,
     "input": [
      "Aemitting = Lha / (planck(wave,temperature)*pi/1e8)\n",
      "print \"Emitting area = \",Aemitting,\" cm^2\"\n",
      "R = (Aemitting/pi)**0.5\n",
      "print \"R = %e\" % R, \" cm\"\n",
      "au = units.AU.in_units('cm')\n",
      "print \"R = \",R/au,\" AU\"\n",
      "print \"R = \",R/pc, \" pc\""
     ],
     "language": "python",
     "metadata": {
      "slideshow": {
       "slide_start": false
      }
     },
     "outputs": [
      {
       "output_type": "stream",
       "stream": "stdout",
       "text": [
        "Emitting area =  4.11702975893e+30  cm^2\n",
        "R = 1.144767e+15  cm\n",
        "R =  76.5229413217  AU\n",
        "R =  0.000370993688718  pc\n"
       ]
      }
     ],
     "prompt_number": 4
    },
    {
     "cell_type": "code",
     "collapsed": false,
     "input": [
      "# Light crossing time\n",
      "tc = R / constants.cgs.c\n",
      "day = units.day.in_units('s')\n",
      "print \"Light Crossing time at %i AU = %f days\" % (R/au, tc/day)"
     ],
     "language": "python",
     "metadata": {
      "slideshow": {
       "slide_start": false
      }
     },
     "outputs": [
      {
       "output_type": "stream",
       "stream": "stdout",
       "text": [
        "Light Crossing time at 76 AU = 0.441960 days\n"
       ]
      }
     ],
     "prompt_number": 5
    },
    {
     "cell_type": "code",
     "collapsed": false,
     "input": [
      "# What if we assume it's a sphere instead of a disk?\n",
      "# area -> 4 * pi * r^2\n",
      "R = (Aemitting/(4*pi))**0.5\n",
      "print \"R = %e\" % R, \" cm\"\n",
      "au = units.AU.in_units('cm')\n",
      "print \"R = \",R/au,\" AU\"\n",
      "print \"R = \",R/pc, \" pc\"\n",
      "tc = R / constants.cgs.c\n",
      "print \"Light Crossing time at %i AU = %f days\" % (R/au, tc/day)"
     ],
     "language": "python",
     "metadata": {
      "slideshow": {
       "slide_start": false
      }
     },
     "outputs": [
      {
       "output_type": "stream",
       "stream": "stdout",
       "text": [
        "R = 5.723835e+14  cm\n",
        "R =  38.2614706609  AU\n",
        "R =  0.000185496844359  pc\n",
        "Light Crossing time at 38 AU = 0.220980 days\n"
       ]
      }
     ],
     "prompt_number": 6
    },
    {
     "cell_type": "markdown",
     "metadata": {
      "slideshow": {
       "slide_start": false
      }
     },
     "source": [
      "Because the brightening was sudden, and because a uniform disk is somewhat implausible, we should come up with a different measurement for a disk with an inner hole.  I'll use fiducial numbers of 13000 $km s^{-1}$ and $\\Delta t \\sim 40$ days."
     ]
    },
    {
     "cell_type": "code",
     "collapsed": false,
     "input": [
      "kms = (units.km/units.s).in_units('cm/s')\n",
      "vejecta = 13e3 * kms\n",
      "deltat = 40 * day\n",
      "r_collision = vejecta*deltat\n",
      "print \"Inner disk radius = \",r_collision,\" or \",r_collision/au,\" AU\"\n",
      "print \"Light crossing time at inner disk radius = \",r_collision / constants.cgs.c / day, \"days\"\n",
      "H = Aemitting/r_collision/2/pi\n",
      "print \"Height needed if this is ALL coming from the inner part of a disk: \",H,\" cm or \",H/au,\" AU\"\n",
      "print \"The speed required to achieve that height in 2 days is \", H / (2*day) / 1e5, \"km/s\""
     ],
     "language": "python",
     "metadata": {
      "slideshow": {
       "slide_start": false
      }
     },
     "outputs": [
      {
       "output_type": "stream",
       "stream": "stdout",
       "text": [
        "Inner disk radius =  4.4928e+15  or  300.325130229  AU\n",
        "Light crossing time at inner disk radius =  1.73453329503 days\n",
        "Height needed if this is ALL coming from the inner part of a disk:  1.45843491139e+14  cm or  9.74903522735  AU\n",
        "The speed required to achieve that height in 2 days is  8440.01684832 km/s\n"
       ]
      }
     ],
     "prompt_number": 14
    },
    {
     "cell_type": "markdown",
     "metadata": {
      "slideshow": {
       "slide_start": false
      }
     },
     "source": [
      "We then want $$\\int_{r_{inner}}^{r_{outer}} 2 \\pi r dr = A_{emitting}$$ or $$ r_{outer}^2 - r_{inner}^2 = A_{emitting} / \\pi$$"
     ]
    },
    {
     "cell_type": "code",
     "collapsed": false,
     "input": [
      "router = (Aemitting/pi+r_collision**2)**0.5\n",
      "print \"Outer radius = \",router,\" or \",router/au,\" AU\"\n",
      "print \"Delta-R = \",router-r_collision,\" or \",(router-r_collision)/au,\" AU\"\n",
      "tcross = (router-r_collision) / vejecta\n",
      "print \"The shock crossing time from inner->outer at %g km/s = %g days\" % (vejecta/kms, tcross/day)"
     ],
     "language": "python",
     "metadata": {
      "slideshow": {
       "slide_start": false
      }
     },
     "outputs": [
      {
       "output_type": "stream",
       "stream": "stdout",
       "text": [
        "Outer radius =  4.6363501932e+15  or  309.920867958  AU\n",
        "Delta-R =  1.43550193199e+14  or  9.59573772859  AU\n",
        "The shock crossing time from inner->outer at 13000 km/s = 1.27805 days\n"
       ]
      }
     ],
     "prompt_number": 8
    },
    {
     "cell_type": "markdown",
     "metadata": {
      "slideshow": {
       "slide_start": false
      }
     },
     "source": [
      "I think this effectively leaves us with the conclusion that there is a 30 AU radius torus at 300 AU from the central source.  That strikes me as somewhat implausible; 30 AU is enormous, particularly at densities $\\sim10^{13}$.  I'll try computing the mass in the disk assuming it's quite thin, $\\sim0.1AU$."
     ]
    },
    {
     "cell_type": "code",
     "collapsed": false,
     "input": [
      "height = 0.1 * au\n",
      "volume = Aemitting*height\n",
      "density = 1e13 \n",
      "nparticles = volume * density\n",
      "msun = units.msolMass.in_units('g')\n",
      "mass = nparticles * constants.cgs.m_p * 1.4\n",
      "print \"mass = \",mass,\"g = \",mass/msun,\"msun\""
     ],
     "language": "python",
     "metadata": {
      "slideshow": {
       "slide_start": false
      }
     },
     "outputs": [
      {
       "output_type": "stream",
       "stream": "stdout",
       "text": [
        "mass =  1.44223224375e+32 g =  72.5067741062 msun\n"
       ]
      }
     ],
     "prompt_number": 9
    },
    {
     "cell_type": "markdown",
     "metadata": {
      "slideshow": {
       "slide_start": false
      }
     },
     "source": [
      "That's ridiculous.  I'll invert the assumption: say the disk/torus is 1 msun; how thin must it be?"
     ]
    },
    {
     "cell_type": "code",
     "collapsed": false,
     "input": [
      "mass = 1 * msun\n",
      "nparticles = mass / (constants.cgs.m_p*1.4)\n",
      "volume = nparticles/density\n",
      "height = volume/Aemitting\n",
      "print \"height of disk = \",height,\"cm = \",height/au,\" AU\""
     ],
     "language": "python",
     "metadata": {
      "slideshow": {
       "slide_start": false
      }
     },
     "outputs": [
      {
       "output_type": "stream",
       "stream": "stdout",
       "text": [
        "height of disk =  20632261267.2 cm =  0.0013791814797  AU\n"
       ]
      }
     ],
     "prompt_number": 10
    },
    {
     "cell_type": "markdown",
     "metadata": {
      "slideshow": {
       "slide_start": false
      }
     },
     "source": [
      "These numbers don't feel right to me.  Why such an ultrathin disk?  It would HAVE to puff up; the pressures are enormous.\n",
      "\n",
      "What about the hypothesis that the brightening results from optically thin emission?  I'll work under the assumption that H$\\alpha$ is \"just barely\" optically thick (i.e. I'll cheat and use the optically thin approach);\n",
      "in order to get the high H$\\beta$ / H$\\alpha$ ratio we actually need it to be pretty optically thick *and* under the Case B regime (Case C just makes it harder to get the observed $\\alpha$/$\\beta$ ratio)."
     ]
    },
    {
     "cell_type": "code",
     "collapsed": false,
     "input": [
      "density = 1e6 # assume pretty dense, but still plausibly case B\n",
      "alphaB = 2.6e-13 # cm^3 s^-1\n",
      "Eha = h * c / wave\n",
      "nphot_perang = Lha / Eha # phot/s/A\n",
      "nphot = nphot_perang * 1 # phot/s\n",
      "# solve for path length\n",
      "# nphot = density**2 * alphaB * area * path_length\n",
      "path_length = nphot / (density**2*alphaB*Aemitting)\n",
      "print \"Emitting path length for density = %0.1e\" % density,\"cm^-3 is \",path_length,\" = \",path_length/pc,\" pc\"\n",
      "# use the rise time of ~2 days as an upper limit on the emitting size scale\n",
      "maxsize = 2*day*c\n",
      "print \"This is %i times larger than the largest allowed scale\" % (path_length/maxsize)\n",
      "print \"Densities must be at least %e for optically thin emission to be plausible\" % (density*sqrt(path_length/maxsize))"
     ],
     "language": "python",
     "metadata": {
      "slideshow": {
       "slide_start": false
      }
     },
     "outputs": [
      {
       "output_type": "stream",
       "stream": "stdout",
       "text": [
        "Emitting path length for density = 1.0e+06 cm^-3 is  4.90881531249e+19  =  15.9083870006  pc\n",
        "This is 9475 times larger than the largest allowed scale\n",
        "Densities must be at least 9.734331e+07 for optically thin emission to be plausible\n"
       ]
      }
     ],
     "prompt_number": 18
    },
    {
     "cell_type": "markdown",
     "metadata": {
      "slideshow": {
       "slide_start": false
      }
     },
     "source": [
      "So at densities $>5\\times10^7$, if H$\\alpha$ starts becoming optically thick but H$\\beta$ remains optically thin, we could explain the brightening by a filled sphere of just barely optically thick emission."
     ]
    },
    {
     "cell_type": "markdown",
     "metadata": {
      "slideshow": {
       "slide_start": false
      }
     },
     "source": [
      "Despite all this, we still don't have a great explanation for why the P Cygni profile disappears.  We should revisit that if possible."
     ]
    },
    {
     "cell_type": "code",
     "collapsed": false,
     "input": [
      "# limb-brightened shell model\n",
      "half_sph_area = 2*pi*r_collision**2\n",
      "print \"Fraction of sphere that must be emitting: \",Aemitting/half_sph_area"
     ],
     "language": "python",
     "metadata": {
      "slideshow": {
       "slide_start": false
      }
     },
     "outputs": [
      {
       "output_type": "stream",
       "stream": "stdout",
       "text": [
        "Fraction of sphere that must be emitting:  0.0324616032628\n"
       ]
      }
     ],
     "prompt_number": 22
    },
    {
     "cell_type": "code",
     "collapsed": false,
     "input": [],
     "language": "python",
     "metadata": {
      "slideshow": {
       "slide_start": false
      }
     },
     "outputs": []
    },
    {
     "cell_type": "code",
     "collapsed": false,
     "input": [
      "from IPython.core.display import HTML\n",
      "\n",
      "def blackbg():\n",
      "\t\"\"\"Black Background code mirror theme.\"\"\"\n",
      "\thtml = \"\"\"\n",
      "<style type=\"text/css\">\n",
      ".cm-s-ipython { background-color: black; color: lightblue; }\n",
      ".cm-s-ipython span.cm-keyword {color: #00ff00; font-weight: bold;}\n",
      ".cm-s-ipython span.cm-number {color: #ee88ee;}\n",
      ".cm-s-ipython span.cm-operator {color: lime; font-weight: bold;}\n",
      ".cm-s-ipython span.cm-meta {color: white;}\n",
      ".cm-s-ipython span.cm-comment {color: cyan; font-style: italic;}\n",
      ".cm-s-ipython span.cm-string {color: red;}\n",
      ".cm-s-ipython span.cm-error {color: darkred;}\n",
      ".cm-s-ipython span.cm-builtin {color: pink; font-weight: bold;}\n",
      ".CodeMirror pre.CodeMirror-cursor {color: white; border-left: 1px solid white;}\n",
      ".cm-s-ipython span.cm-variable {color: white;}\n",
      "div.text_cell_input  {   background-color: black;    color: white;}\n",
      "div.text_cell {   background-color: black;    color: white;}\n",
      "div#notebook {    background-color: black;     background-image: none;     color: white;}\n",
      "div.code_cell { background-color: black;    color: white;}\n",
      "div.metaedit .maintoolbar{    background-color: black;    color: white;}\n",
      "body{    background-color: black;    color: white;}\n",
      "#notebook_name {  background-color: #333333;    color: white; background-image:none;}\n",
      "span.ui-widget-content{  background-color: #333333;    color: white; background-image:none;}\n",
      "div.ui-widget-content{  background-color: #333333;    color: white; background-image:none;}\n",
      "div#ui-button ui-widget ui-state-default ui-corner-all ui-button-text-only output_collapsed vbox{  \n",
      "  background-color: black;    color: white;}\n",
      "div.input_area{    background-color: black;    color: white;}\n",
      "div.ui-widget-content { background-color: #333333; background-image: none;}\n",
      "div.input_prompt {color:#6666CC; font-weight: bold;}\n",
      "div.output_prompt {color:#CC6666; font-weight: bold;}\n",
      "div.output_text {color:white;}\n",
      "div.text_cell_render {color:white;}\n",
      "span.item_name {color:white;}\n",
      ".ui-widget-content a {color:white;}\n",
      "div.tooltip .ui-corner-all .tooltiptext .smalltooltip {background-color: black; color:white;}\n",
      ".pln {color:white} \n",
      ".typ {color:#f9f}\n",
      ".lit {color:#BBB}\n",
      ".kwd {color:#3e3}\n",
      ".metaedit {background: transparent; border-color: transparent; color:white;}\n",
      ".ui-button-text {background: #112; color:white; border-color:666;}\n",
      ".ui-menubar  {background-color: transparent; background: transparent; background-image:none;}\n",
      ".ui-widget-header  {background-color: transparent; background: transparent; background-image:none;}\n",
      ".ui-helper-clearfix {background-color: transparent; background: transparent; background-image:none;}\n",
      ".ui-corner-all {background: #112; color: white;}\n",
      ".ui-widget  {background: #112; color: white;}\n",
      ".ui-widget-content {background: #112; color: white;}\n",
      "div.highlight {background:black;} /* needed for nbviewer */\n",
      "</style>\"\"\"\n",
      "\treturn HTML(html)\n",
      "\n",
      "blackbg()"
     ],
     "language": "python",
     "metadata": {
      "slideshow": {
       "slide_start": false
      }
     },
     "outputs": [
      {
       "html": [
        "\n",
        "<style type=\"text/css\">\n",
        ".cm-s-ipython { background-color: black; color: lightblue; }\n",
        ".cm-s-ipython span.cm-keyword {color: #00ff00; font-weight: bold;}\n",
        ".cm-s-ipython span.cm-number {color: #ee88ee;}\n",
        ".cm-s-ipython span.cm-operator {color: lime; font-weight: bold;}\n",
        ".cm-s-ipython span.cm-meta {color: white;}\n",
        ".cm-s-ipython span.cm-comment {color: cyan; font-style: italic;}\n",
        ".cm-s-ipython span.cm-string {color: red;}\n",
        ".cm-s-ipython span.cm-error {color: darkred;}\n",
        ".cm-s-ipython span.cm-builtin {color: pink; font-weight: bold;}\n",
        ".CodeMirror pre.CodeMirror-cursor {color: white; border-left: 1px solid white;}\n",
        ".cm-s-ipython span.cm-variable {color: white;}\n",
        "div.text_cell_input  {   background-color: black;    color: white;}\n",
        "div.text_cell {   background-color: black;    color: white;}\n",
        "div#notebook {    background-color: black;     background-image: none;     color: white;}\n",
        "div.code_cell { background-color: black;    color: white;}\n",
        "div.metaedit .maintoolbar{    background-color: black;    color: white;}\n",
        "body{    background-color: black;    color: white;}\n",
        "#notebook_name {  background-color: #333333;    color: white; background-image:none;}\n",
        "span.ui-widget-content{  background-color: #333333;    color: white; background-image:none;}\n",
        "div.ui-widget-content{  background-color: #333333;    color: white; background-image:none;}\n",
        "div#ui-button ui-widget ui-state-default ui-corner-all ui-button-text-only output_collapsed vbox{  \n",
        "  background-color: black;    color: white;}\n",
        "div.input_area{    background-color: black;    color: white;}\n",
        "div.ui-widget-content { background-color: #333333; background-image: none;}\n",
        "div.input_prompt {color:#6666CC; font-weight: bold;}\n",
        "div.output_prompt {color:#CC6666; font-weight: bold;}\n",
        "div.output_text {color:white;}\n",
        "div.text_cell_render {color:white;}\n",
        "span.item_name {color:white;}\n",
        ".ui-widget-content a {color:white;}\n",
        "div.tooltip .ui-corner-all .tooltiptext .smalltooltip {background-color: black; color:white;}\n",
        ".pln {color:white} \n",
        ".typ {color:#f9f}\n",
        ".lit {color:#BBB}\n",
        ".kwd {color:#3e3}\n",
        ".metaedit {background: transparent; border-color: transparent; color:white;}\n",
        ".ui-button-text {background: #112; color:white; border-color:666;}\n",
        ".ui-menubar  {background-color: transparent; background: transparent; background-image:none;}\n",
        ".ui-widget-header  {background-color: transparent; background: transparent; background-image:none;}\n",
        ".ui-helper-clearfix {background-color: transparent; background: transparent; background-image:none;}\n",
        ".ui-corner-all {background: #112; color: white;}\n",
        ".ui-widget  {background: #112; color: white;}\n",
        ".ui-widget-content {background: #112; color: white;}\n",
        "div.highlight {background:black;} /* needed for nbviewer */\n",
        "</style>"
       ],
       "output_type": "pyout",
       "prompt_number": 1,
       "text": [
        "<IPython.core.display.HTML at 0x1035cf590>"
       ]
      }
     ],
     "prompt_number": 1
    },
    {
     "cell_type": "code",
     "collapsed": false,
     "input": [],
     "language": "python",
     "metadata": {
      "slideshow": {
       "slide_start": false
      }
     },
     "outputs": [],
     "prompt_number": 12
    }
   ],
   "metadata": {}
  }
 ]
}